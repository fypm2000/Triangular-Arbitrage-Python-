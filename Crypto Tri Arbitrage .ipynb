{
 "cells": [
  {
   "cell_type": "code",
   "execution_count": 15,
   "id": "defensive-study",
   "metadata": {},
   "outputs": [
    {
     "name": "stdout",
     "output_type": "stream",
     "text": [
      "Arbitrage Opportunity Detected:\n",
      "Buy LTC with USD, then ETH with LTC, and then BTC with ETH\n"
     ]
    }
   ],
   "source": [
    "import requests\n",
    "\n",
    "# Function to fetch cryptocurrency prices from CoinGecko API\n",
    "def fetch_prices():\n",
    "    url = \"https://api.coingecko.com/api/v3/simple/price?ids=bitcoin,ethereum,litecoin&vs_currencies=usd\"\n",
    "    response = requests.get(url)\n",
    "    if response.status_code == 200:\n",
    "        prices = response.json()\n",
    "        return {'BTCUSD': prices['bitcoin']['usd'], 'ETHUSD': prices['ethereum']['usd'], 'LTCUSD': prices['litecoin']['usd']}\n",
    "    else:\n",
    "        print(f\"Failed to fetch prices. Status code: {response.status_code}\")\n",
    "        print(response.text)\n",
    "        return None\n",
    "\n",
    "# Function to calculate triangular arbitrage opportunity\n",
    "def find_arbitrage_opportunity(prices):\n",
    "    btc_usd = prices.get('BTCUSD')\n",
    "    eth_usd = prices.get('ETHUSD')\n",
    "    ltc_usd = prices.get('LTCUSD')\n",
    "    if None in [btc_usd, eth_usd, ltc_usd]:\n",
    "        return None\n",
    "\n",
    "    # Calculate derived BTC-USD\n",
    "    eth_btc = eth_usd / btc_usd\n",
    "    ltc_btc = ltc_usd / btc_usd\n",
    "    derived_btc_usd = eth_btc * ltc_btc\n",
    "\n",
    "    # Check for arbitrage opportunity\n",
    "    if derived_btc_usd > btc_usd:\n",
    "        return 'Buy BTC with USD, then ETH with BTC, and then LTC with ETH'\n",
    "    elif derived_btc_usd < btc_usd:\n",
    "        return 'Buy LTC with USD, then ETH with LTC, and then BTC with ETH'\n",
    "    else:\n",
    "        return 'No arbitrage opportunity'\n",
    "\n",
    "# Main function\n",
    "def main():\n",
    "    prices = fetch_prices()\n",
    "    if prices:\n",
    "        opportunity = find_arbitrage_opportunity(prices)\n",
    "        if opportunity:\n",
    "            print(\"Arbitrage Opportunity Detected:\")\n",
    "            print(opportunity)\n",
    "        else:\n",
    "            print(\"No arbitrage opportunity found.\")\n",
    "    else:\n",
    "        print(\"Failed to fetch prices. Check the error message above.\")\n",
    "\n",
    "if __name__ == \"__main__\":\n",
    "    main()\n"
   ]
  }
 ],
 "metadata": {
  "kernelspec": {
   "display_name": "Python 3",
   "language": "python",
   "name": "python3"
  },
  "language_info": {
   "codemirror_mode": {
    "name": "ipython",
    "version": 3
   },
   "file_extension": ".py",
   "mimetype": "text/x-python",
   "name": "python",
   "nbconvert_exporter": "python",
   "pygments_lexer": "ipython3",
   "version": "3.8.5"
  }
 },
 "nbformat": 4,
 "nbformat_minor": 5
}
